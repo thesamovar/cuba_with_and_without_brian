{
  "nbformat": 4,
  "nbformat_minor": 0,
  "metadata": {
    "colab": {
      "name": "brian-cuba.ipynb",
      "provenance": []
    },
    "kernelspec": {
      "name": "python3",
      "display_name": "Python 3"
    },
    "language_info": {
      "name": "python"
    }
  },
  "cells": [
    {
      "cell_type": "code",
      "metadata": {
        "id": "FpndxjIUkApw"
      },
      "source": [
        "!pip install brian2"
      ],
      "execution_count": null,
      "outputs": []
    },
    {
      "cell_type": "code",
      "metadata": {
        "id": "s_61qbm3kH_t"
      },
      "source": [
        "%matplotlib inline\n",
        "from brian2 import *\n",
        "prefs.codegen.target = 'numpy'\n",
        "\n",
        "taum = 20*ms\n",
        "taue = 5*ms\n",
        "taui = 10*ms\n",
        "Vt = -50*mV\n",
        "Vr = -60*mV\n",
        "El = -49*mV\n",
        "eqs = '''\n",
        "dv/dt  = (ge+gi-(v-El))/taum : volt (unless refractory)\n",
        "dge/dt = -ge/taue : volt\n",
        "dgi/dt = -gi/taui : volt\n",
        "'''\n",
        "P = NeuronGroup(4000, eqs, threshold='v>Vt', reset='v = Vr', refractory=5*ms,\n",
        "                method='exact')\n",
        "P.v = 'Vr + rand() * (Vt - Vr)'\n",
        "P.ge = 0*mV\n",
        "P.gi = 0*mV\n",
        "we = (60*0.27/10)*mV # excitatory synaptic weight (voltage)\n",
        "wi = (-20*4.5/10)*mV # inhibitory synaptic weight\n",
        "Ce = Synapses(P, P, on_pre='ge += we')\n",
        "Ci = Synapses(P, P, on_pre='gi += wi')\n",
        "Ce.connect('i<3200', p=0.02)\n",
        "Ci.connect('i>=3200', p=0.02)\n",
        "s_mon = SpikeMonitor(P)\n",
        "run(1 * second)\n",
        "plot(s_mon.t/ms, s_mon.i, ',k')\n",
        "xlabel('Time (ms)')\n",
        "ylabel('Neuron index')\n",
        "show()"
      ],
      "execution_count": null,
      "outputs": []
    }
  ]
}